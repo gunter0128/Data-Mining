{
 "cells": [
  {
   "cell_type": "code",
   "execution_count": 14,
   "id": "f2cb160a",
   "metadata": {},
   "outputs": [
    {
     "name": "stdout",
     "output_type": "stream",
     "text": [
      "✅ 已產生 AutoMM 訓練用資料 train_data.csv\n"
     ]
    }
   ],
   "source": [
    "# ✅ 將 train_data.json + train_label.csv 整合為 AutoMM 格式\n",
    "\n",
    "import os\n",
    "import json\n",
    "import pandas as pd\n",
    "\n",
    "# === 設定資料路徑 ===\n",
    "data_dir = \"C:/Users/user/Desktop/碩一下/資料探勘/HW/113-2-data-mining-homework-2\"  # 🔁 修改成你的資料夾路徑\n",
    "train_json_path = os.path.join(data_dir, \"train_data.json\")\n",
    "train_label_path = os.path.join(data_dir, \"train_label.csv\")\n",
    "\n",
    "# 圖片根目錄（每一筆資料對應一張圖）\n",
    "image_root = os.path.join(data_dir, \"train\", \"train\")\n",
    "\n",
    "# === 載入資料 ===\n",
    "with open(train_json_path, \"r\", encoding=\"utf-8\") as f:\n",
    "    train_data = json.load(f)\n",
    "train_df = pd.DataFrame(train_data)\n",
    "label_df = pd.read_csv(train_label_path)\n",
    "\n",
    "# 合併 label\n",
    "train_df = pd.merge(train_df, label_df, on=\"Pid\")\n",
    "\n",
    "\n",
    "image_root = os.path.abspath(data_dir)\n",
    "train_df[\"image\"] = train_df[\"img_filepath\"].apply(lambda p: os.path.join(image_root, p))\n",
    "\n",
    "# 轉換 Postdate 成時間特徵\n",
    "train_df[\"Postdate\"] = pd.to_datetime(train_df[\"Postdate\"], unit=\"s\")\n",
    "train_df[\"weekday\"] = train_df[\"Postdate\"].dt.weekday\n",
    "train_df[\"hour\"] = train_df[\"Postdate\"].dt.hour\n",
    "\n",
    "# 保留必要欄位\n",
    "columns_to_keep = [\n",
    "    \"Pid\", \"Title\", \"Category\", \"Subcategory\",\n",
    "    \"weekday\", \"hour\", \"image\", \"label\"\n",
    "]\n",
    "train_df = train_df[columns_to_keep]\n",
    "\n",
    "# 儲存成 csv 給 AutoMM 用\n",
    "train_df.to_csv(os.path.join(data_dir, \"train_data.csv\"), index=False)\n",
    "print(\"✅ 已產生 AutoMM 訓練用資料 train_data.csv\")"
   ]
  }
 ],
 "metadata": {
  "kernelspec": {
   "display_name": "Python 3",
   "language": "python",
   "name": "python3"
  },
  "language_info": {
   "codemirror_mode": {
    "name": "ipython",
    "version": 3
   },
   "file_extension": ".py",
   "mimetype": "text/x-python",
   "name": "python",
   "nbconvert_exporter": "python",
   "pygments_lexer": "ipython3",
   "version": "3.11.9"
  }
 },
 "nbformat": 4,
 "nbformat_minor": 5
}
